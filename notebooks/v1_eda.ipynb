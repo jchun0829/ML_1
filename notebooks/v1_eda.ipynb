{
 "cells": [
  {
   "cell_type": "markdown",
   "id": "5e332432",
   "metadata": {},
   "source": [
    "# V1 프로젝트 - 탐색적 데이터 분석 (EDA)\n",
    "\n",
    "이 주피터 노트북은 '중고차 가격 예측 프로젝트'의 V1 버전 데이터를 기반으로 한 탐색적 데이터 분석(EDA) 과정을 담고 있습니다.\n",
    "데이터의 특징을 이해하고, 주요 피처(Feature)와 타겟(Target) 변수 간의 관계를 시각적으로 확인하며, 모델링에 필요한 인사이트를 도출하는 것이 목표입니다."
   ]
  },
  {
   "cell_type": "code",
   "execution_count": 2,
   "id": "4faacec6",
   "metadata": {
    "vscode": {
     "languageId": "plaintext"
    }
   },
   "outputs": [
    {
     "ename": "ModuleNotFoundError",
     "evalue": "No module named 'seaborn'",
     "output_type": "error",
     "traceback": [
      "\u001b[31m---------------------------------------------------------------------------\u001b[39m",
      "\u001b[31mModuleNotFoundError\u001b[39m                       Traceback (most recent call last)",
      "\u001b[36mCell\u001b[39m\u001b[36m \u001b[39m\u001b[32mIn[2]\u001b[39m\u001b[32m, line 4\u001b[39m\n\u001b[32m      2\u001b[39m \u001b[38;5;28;01mimport\u001b[39;00m\u001b[38;5;250m \u001b[39m\u001b[34;01mnumpy\u001b[39;00m\u001b[38;5;250m \u001b[39m\u001b[38;5;28;01mas\u001b[39;00m\u001b[38;5;250m \u001b[39m\u001b[34;01mnp\u001b[39;00m\n\u001b[32m      3\u001b[39m \u001b[38;5;28;01mimport\u001b[39;00m\u001b[38;5;250m \u001b[39m\u001b[34;01mmatplotlib\u001b[39;00m\u001b[34;01m.\u001b[39;00m\u001b[34;01mpyplot\u001b[39;00m\u001b[38;5;250m \u001b[39m\u001b[38;5;28;01mas\u001b[39;00m\u001b[38;5;250m \u001b[39m\u001b[34;01mplt\u001b[39;00m\n\u001b[32m----> \u001b[39m\u001b[32m4\u001b[39m \u001b[38;5;28;01mimport\u001b[39;00m\u001b[38;5;250m \u001b[39m\u001b[34;01mseaborn\u001b[39;00m\u001b[38;5;250m \u001b[39m\u001b[38;5;28;01mas\u001b[39;00m\u001b[38;5;250m \u001b[39m\u001b[34;01msns\u001b[39;00m\n\u001b[32m      6\u001b[39m \u001b[38;5;66;03m# 시각화 설정\u001b[39;00m\n\u001b[32m      7\u001b[39m sns.set_style(\u001b[33m'\u001b[39m\u001b[33mwhitegrid\u001b[39m\u001b[33m'\u001b[39m)\n",
      "\u001b[31mModuleNotFoundError\u001b[39m: No module named 'seaborn'"
     ]
    }
   ],
   "source": [
    "import pandas as pd\n",
    "import numpy as np\n",
    "import matplotlib.pyplot as plt\n",
    "import seaborn as sns\n",
    "\n",
    "# 시각화 설정\n",
    "sns.set_style('whitegrid')\n",
    "plt.rcParams['font.family'] = 'Malgun Gothic' # 한글 폰트 설정 (Windows 기준)\n",
    "plt.rcParams['axes.unicode_minus'] = False # 마이너스 폰트 깨짐 방지"
   ]
  },
  {
   "cell_type": "markdown",
   "id": "25ccb525",
   "metadata": {},
   "source": [
    "## 1. 데이터 로드 및 기본 정보 확인\n",
    "V1 프로젝트에서 사용했던 `used_cars.csv` 데이터를 로드하고, 기본적인 정보를 확인합니다."
   ]
  },
  {
   "cell_type": "code",
   "execution_count": null,
   "id": "5cc558c6",
   "metadata": {
    "vscode": {
     "languageId": "plaintext"
    }
   },
   "outputs": [],
   "source": [
    "df = pd.read_csv('../data/used_cars.csv') # 데이터 폴더 경로에 맞춰 수정\n",
    "\n",
    "print(\"데이터셋 상위 5행:\\n\", df.head())\n",
    "print(\"\\n데이터셋 정보:\\n\")\n",
    "df.info()\n",
    "print(\"\\n데이터셋 기술 통계량:\\n\", df.describe())"
   ]
  },
  {
   "cell_type": "markdown",
   "id": "3ac29384",
   "metadata": {},
   "source": [
    "## 2. 데이터 전처리 (V1 기준)\n",
    "V1 프로젝트에서 수행했던 주요 전처리 과정을 재현합니다.\n",
    "- `price`, `milage` 열 숫자 변환\n",
    "- `engine` 열에서 `horsepower`, `engine_L`, `cylinders` 추출\n",
    "- `model_year`를 이용한 `car_age` 생성\n",
    "- 이상치 제거 (상위 5% 가격)"
   ]
  },
  {
   "cell_type": "code",
   "execution_count": null,
   "id": "9123f214",
   "metadata": {
    "vscode": {
     "languageId": "plaintext"
    }
   },
   "outputs": [],
   "source": [
    "# 'price' 열: '$'와 ',' 제거 후 숫자(float)로 변환\n",
    "df['price'] = df['price'].str.replace('$', '').str.replace(',', '').astype(float)\n",
    "\n",
    "# 'milage' 열: ' mi.'와 ',' 제거 후 숫자(int)로 변환\n",
    "df['milage'] = df['milage'].str.replace(' mi.', '').str.replace(',', '').astype(int)\n",
    "\n",
    "# 'horsepower' 열: 'engine' 열에서 마력(HP) 정보 추출 (정규표현식 사용)\n",
    "df['horsepower'] = df['engine'].str.extract(r'(\\d+\\.?\\d*)\\s*HP').astype(float)\n",
    "\n",
    "# 'engine_L' 열: 'L' 앞에 있는 숫자 추출\n",
    "df['engine_L'] = df['engine'].str.extract(r'(\\d+\\.?\\d*)\\s*L').astype(float)\n",
    "\n",
    "# 'cylinders' 열: 'Cylinder' 또는 'V' 앞에 있는 숫자 추출\n",
    "df['cylinders'] = df['engine'].str.extract(r'(\\d)\\s*(?:Cylinder|V)').astype(float)\n",
    "\n",
    "# 'car_age' 피처 생성\n",
    "current_year = 2025 \n",
    "df['car_age'] = current_year - df['model_year']\n",
    "\n",
    "# 불필요한 열 삭제\n",
    "df.drop(['engine', 'model_year'], axis=1, inplace=True)\n",
    "\n",
    "# V1 이상치 처리 (가격 상위 5% 제거)\n",
    "price_95th = df['price'].quantile(0.95)\n",
    "df = df[df['price'] < price_95th]\n",
    "\n",
    "print(\"\\n전처리 후 데이터셋 정보:\\n\")\n",
    "df.info()\n",
    "print(\"\\n전처리 후 데이터셋 상위 5행:\\n\", df.head())"
   ]
  },
  {
   "cell_type": "markdown",
   "id": "e27e3bea",
   "metadata": {},
   "source": [
    "## 3. 결측치 확인 (V1 기준)\n",
    "V1에서는 `dropna()`로 결측치를 처리했습니다. EDA 단계에서는 어떤 열에 결측치가 얼마나 있는지 확인합니다."
   ]
  },
  {
   "cell_type": "code",
   "execution_count": null,
   "id": "5e2acee7",
   "metadata": {
    "vscode": {
     "languageId": "plaintext"
    }
   },
   "outputs": [],
   "source": [
    "print(\"\\n결측치 개수:\\n\", df.isnull().sum())\n",
    "print(\"\\n결측치 비율 (%):\\n\", df.isnull().sum() / len(df) * 100)"
   ]
  },
  {
   "cell_type": "markdown",
   "id": "3bf8d846",
   "metadata": {},
   "source": [
    "## 4. 주요 변수 분포 탐색\n",
    "타겟 변수인 `price`와 주요 수치형 피처들의 분포를 시각화하여 데이터의 특성을 파악합니다."
   ]
  },
  {
   "cell_type": "code",
   "execution_count": null,
   "id": "a39fd1e2",
   "metadata": {
    "vscode": {
     "languageId": "plaintext"
    }
   },
   "outputs": [],
   "source": [
    "# price 분포\n",
    "plt.figure(figsize=(10, 6))\n",
    "sns.histplot(df['price'], bins=50, kde=True)\n",
    "plt.title('차량 가격 분포')\n",
    "plt.xlabel('가격 ($)')\n",
    "plt.ylabel('빈도')\n",
    "plt.show()\n",
    "\n",
    "# milage 분포\n",
    "plt.figure(figsize=(10, 6))\n",
    "sns.histplot(df['milage'], bins=50, kde=True)\n",
    "plt.title('주행거리 분포')\n",
    "plt.xlabel('주행거리 (mi.)')\n",
    "plt.ylabel('빈도')\n",
    "plt.show()\n",
    "\n",
    "# horsepower 분포\n",
    "plt.figure(figsize=(10, 6))\n",
    "sns.histplot(df['horsepower'].dropna(), bins=50, kde=True) # 결측치 제외\n",
    "plt.title('마력 분포')\n",
    "plt.xlabel('마력 (HP)')\n",
    "plt.ylabel('빈도')\n",
    "plt.show()\n",
    "\n",
    "# car_age 분포\n",
    "plt.figure(figsize=(10, 6))\n",
    "sns.histplot(df['car_age'], bins=20, kde=True)\n",
    "plt.title('차량 연식 분포')\n",
    "plt.xlabel('차량 연식 (년)')\n",
    "plt.ylabel('빈도')\n",
    "plt.show()"
   ]
  }
 ],
 "metadata": {
  "kernelspec": {
   "display_name": "DP",
   "language": "python",
   "name": "dp"
  },
  "language_info": {
   "codemirror_mode": {
    "name": "ipython",
    "version": 3
   },
   "file_extension": ".py",
   "mimetype": "text/x-python",
   "name": "python",
   "nbconvert_exporter": "python",
   "pygments_lexer": "ipython3",
   "version": "3.13.7"
  }
 },
 "nbformat": 4,
 "nbformat_minor": 5
}
